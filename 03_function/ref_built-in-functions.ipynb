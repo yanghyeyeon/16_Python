{
 "cells": [
  {
   "cell_type": "markdown",
   "metadata": {},
   "source": [
    "# [참고] 내장함수\n",
    "* 내장 함수의 종류는 다양하지만 자주 쓰는 것, 지금까지 썼던 것은 다음과 같은 것이 있다.\n",
    "1. print() : 콘솔 출력 기능을 하는 함수\n",
    "2. input() : 콘솔을 통해 사용자 입력을 받아 문자열로 반환하는 함수\n",
    "3. type() : 인자로 전달된 값의 자료형을 반환하는 함수\n",
    "4. len() : 인자로 전달된 시퀀스 자료형의 요소의 갯수(길이)를 반환하는 함수\n",
    "5. int(), float(), str(), list(), dict() : 인자로 전달된 자료형을 특정 자료형으로 형 변환하여 반환하는 함수\n",
    "6. range() : 전달받은 인자에 따라 일정 범위의 숫자 시퀀스를 생성하여 반환하는 함수\n",
    "7. min(), max() : 인자로 전달된 시퀀스의 요소 중 가장 크거나 작은 값을 반환하는 함수\n",
    "8. sum() : 인자로 전달된 시퀀스 내 모든 요소의 합계를 반환하는 함수\n",
    "9. abs() : 절댓값을 반환하는 함수\n",
    "10. round() : 인자로 전달된 숫자를 반올림하는 함수\n",
    "11. map() : 함수와 시퀀스를 인자로 받아, 시퀀스의 각 요소에 함수를 적용한 결과를 반환하는 함수\n",
    "12. filter() : 함수와 시퀀스를 인자로 받아, 시퀀스에서 함수의 조건을 만족하는 요소만 반환하는 함수\n",
    "13. pow() : 인자의 첫 번째 숫자를 두 번째 숫자로 거듭 제곱한 값을 반환하는 함수"
   ]
  },
  {
   "cell_type": "code",
   "execution_count": null,
   "metadata": {},
   "outputs": [],
   "source": [
    "# 1. print\n",
    "print(\"Hello, Python!\")"
   ]
  },
  {
   "cell_type": "code",
   "execution_count": null,
   "metadata": {},
   "outputs": [],
   "source": [
    "# 2. input\n",
    "name = input(\"Enter your name: \")\n",
    "print(\"Hello, \" + name)"
   ]
  },
  {
   "cell_type": "code",
   "execution_count": null,
   "metadata": {},
   "outputs": [],
   "source": [
    "# 3. type\n",
    "print(type(-1))\n",
    "print(type('abc'))\n",
    "print(type([1, 2, 3]))"
   ]
  },
  {
   "cell_type": "code",
   "execution_count": null,
   "metadata": {},
   "outputs": [],
   "source": [
    "# 4. len\n",
    "my_list = [1, 2, 3, 4, 5]\n",
    "print(\"List length:\", len(my_list))"
   ]
  },
  {
   "cell_type": "code",
   "execution_count": null,
   "metadata": {},
   "outputs": [],
   "source": [
    "# 5.int, float, str, list, dict 등 형변환함수\n",
    "print(chr(97))\n",
    "print(chr(65))\n",
    "print(chr(48))\n",
    "\n",
    "print(str(3))\n",
    "print(str([1, 2]))"
   ]
  },
  {
   "cell_type": "code",
   "execution_count": null,
   "metadata": {},
   "outputs": [],
   "source": [
    "# 6. max, min\n",
    "print(max(1, 2))\n",
    "print(max([1, 2, 3]))\n",
    "print(max(\"python\"))    # ascii code 값 중 가장 큰 값\n",
    "\n",
    "print(min(1, 2))\n",
    "print(min([1, 2, 3]))\n",
    "print(min(\"python\"))  # ascii code 값 중 가장 작은 값"
   ]
  },
  {
   "cell_type": "code",
   "execution_count": null,
   "metadata": {},
   "outputs": [],
   "source": [
    "# 7. range : range([start,]stop[,step])\n",
    "\n",
    "# start : inclusive 기본값 0\n",
    "# stop : exclusive\n",
    "\n",
    "a = range(10)\n",
    "for n in a:\n",
    "    print(n, end=\" \")\n",
    "print()\n",
    "\n",
    "a = range(3, 10)\n",
    "for n in a:\n",
    "    print(n, end=\" \")\n",
    "print()\n",
    "\n",
    "a = range(3, 10, 2)\n",
    "for n in a:\n",
    "    print(n, end=\" \")\n",
    "print()\n",
    "\n",
    "print(type(range(10)))\n",
    "\n",
    "# python 2.x버젼에서의 작성결과는 다음과 같다\n",
    "print(range(10))          # [0,1,2,3,4,5,6,7,8,9]\n",
    "print(range(3, 10))       # [3,4,5,6,7,8,9]\n",
    "print(range(3, 10, 2))    # [3,5,7,9]"
   ]
  },
  {
   "cell_type": "code",
   "execution_count": null,
   "metadata": {},
   "outputs": [],
   "source": [
    "# 8. sum\n",
    "numbers = [10, 20, 30]\n",
    "print(\"Sum:\", sum(numbers))"
   ]
  },
  {
   "cell_type": "code",
   "execution_count": null,
   "metadata": {},
   "outputs": [],
   "source": [
    "# 9. abs\n",
    "negative_number = -50\n",
    "print(\"Absolute value:\", abs(negative_number))"
   ]
  },
  {
   "cell_type": "code",
   "execution_count": null,
   "metadata": {},
   "outputs": [],
   "source": [
    "# 10. round\n",
    "number = 4.567\n",
    "print(\"Rounded number:\", round(number, 2))"
   ]
  },
  {
   "cell_type": "code",
   "execution_count": null,
   "metadata": {},
   "outputs": [],
   "source": [
    "# 11. map\n",
    "numbers = [1, 2, 3, 4]\n",
    "squared_numbers = list(map(lambda x: x ** 2, numbers))\n",
    "print(\"Squared numbers:\", squared_numbers)"
   ]
  },
  {
   "cell_type": "code",
   "execution_count": null,
   "metadata": {},
   "outputs": [],
   "source": [
    "# 12. filter\n",
    "numbers = [1, 2, 3, 4, 5, 6]\n",
    "even_numbers = list(filter(lambda x: x % 2 == 0, numbers))\n",
    "print(\"Even numbers:\", even_numbers)"
   ]
  },
  {
   "cell_type": "code",
   "execution_count": null,
   "metadata": {},
   "outputs": [],
   "source": [
    "# 13.pow\n",
    "print(pow(2, 4))\n",
    "print(pow(3, 3))\n",
    "print(pow(2, -1))"
   ]
  }
 ],
 "metadata": {
  "kernelspec": {
   "display_name": "pylecture_env",
   "language": "python",
   "name": "python3"
  },
  "language_info": {
   "name": "python",
   "version": "3.12.7"
  }
 },
 "nbformat": 4,
 "nbformat_minor": 2
}
