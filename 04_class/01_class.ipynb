{
 "cells": [
  {
   "cell_type": "markdown",
   "metadata": {},
   "source": [
    "# 01. 클래스 (Class)\n",
    "---\n",
    "## 01-01. 클래스 개요\n",
    "### 01-01-01. 클래스란?\n",
    "* 객체지향(OOP)를 지원하는 중요한 개념\n",
    "* 추상화된 데이터와 함수(메서드)를 하나의 단위로 묶어 만들 수 있다.\n",
    "* 클래스를 사용해 인스턴스를 생성하여 객체 단위로 사용 할 수 있다."
   ]
  },
  {
   "cell_type": "markdown",
   "metadata": {},
   "source": [
    "### 01-01-02. 클래스 표현식\n",
    "* class 키워드와 콜론을 이용해 클래스를 정의한다.\n",
    "* 클래스 정의시에도 **\"반드시\"** 클래스의 내용이 될 블록을 들여쓰기를 한다."
   ]
  },
  {
   "cell_type": "code",
   "execution_count": null,
   "metadata": {},
   "outputs": [],
   "source": [
    "class Person:\n",
    "    national = 'korea'\n",
    "    \n",
    "    def greeting(self):\n",
    "        return 'Hello. This is Python'"
   ]
  },
  {
   "cell_type": "markdown",
   "metadata": {},
   "source": [
    "## 01-02. 클래스의 구성 요소\n",
    "### 01-02-01. 클래스의 속성\n",
    "* 클래스 자체에 속하는 변수로, 모드느 인스턴스가 공유한다."
   ]
  },
  {
   "cell_type": "code",
   "execution_count": 1,
   "metadata": {},
   "outputs": [
    {
     "name": "stdout",
     "output_type": "stream",
     "text": [
      "korea\n",
      "korean\n"
     ]
    }
   ],
   "source": [
    "class Person:\n",
    "    national = 'korea'\n",
    "    language = 'korean'\n",
    "    \n",
    "print(Person.national)\n",
    "print(Person.language)"
   ]
  },
  {
   "cell_type": "markdown",
   "metadata": {},
   "source": [
    "### 01-02-02. 메서드(method)\n",
    "* 클래스 내부에 정의된 함수로, 인스턴스의 데이터를 조작하거나 동작을 정의 한다.\n",
    "* 메소드 호출시 객체의 주소값이 첫번째 인자로 넘어오기 때문에, 객체를 통한 접근 시 호출되는 메소드의 첫번째 인자는 항상 self 이어야 한다."
   ]
  },
  {
   "cell_type": "code",
   "execution_count": 5,
   "metadata": {},
   "outputs": [],
   "source": [
    "class Person:\n",
    "    national = 'korea'\n",
    "    language = 'korean'\n",
    "    \n",
    "    def greeting(self):\n",
    "        return '안녕하세요'\n",
    "    \n",
    "    def information(self):\n",
    "        return f\"I'm from {self.national} and I use {self.language}\"\n",
    "    \n",
    "    def fafvorite(self, color):\n",
    "        return f'I love {color}'"
   ]
  },
  {
   "cell_type": "code",
   "execution_count": 6,
   "metadata": {},
   "outputs": [
    {
     "name": "stdout",
     "output_type": "stream",
     "text": [
      "안녕하세요\n",
      "I'm from korea and I use korean\n",
      "I love blue\n"
     ]
    }
   ],
   "source": [
    "# 객체 생성\n",
    "person_instance1 = Person()\n",
    "person_instance2 = Person()\n",
    "\n",
    "\n",
    "print(person_instance1.greeting())\n",
    "print(person_instance1.information())\n",
    "print(person_instance1.fafvorite('blue'))"
   ]
  },
  {
   "cell_type": "markdown",
   "metadata": {},
   "source": [
    "### 01-02-03. 생성자\n",
    "* init 메서드는 객체가 생성될 때 자동으로 호출되는 메서드 (생성자)\n",
    "* 매개변수를 전달해 인스턴스의 속성을 초기화 할 수 있다."
   ]
  },
  {
   "cell_type": "code",
   "execution_count": 7,
   "metadata": {},
   "outputs": [],
   "source": [
    "class Person:\n",
    "    national = 'korea'\n",
    "    language = 'korean'\n",
    "    \n",
    "    def __init__(self, name, age):\n",
    "        self.name = name\n",
    "        self.age = age\n",
    "    \n",
    "    def greeting(self):\n",
    "        return '안녕하세요'\n",
    "    \n",
    "    def information(self):\n",
    "        return f\"I'm from {self.national} and I use {self.language}. My name is {self.name} My age is {self.age}\"\n",
    "    \n",
    "    def fafvorite(self, color):\n",
    "        return f'I love {color}'"
   ]
  },
  {
   "cell_type": "code",
   "execution_count": 9,
   "metadata": {},
   "outputs": [
    {
     "name": "stdout",
     "output_type": "stream",
     "text": [
      "I'm from korea and I use korean. My name is Bear My age is 20\n",
      "I'm from korea and I use korean. My name is pig My age is 25\n"
     ]
    }
   ],
   "source": [
    "# 객체 생성\n",
    "person_instance1 = Person('Bear', 20)\n",
    "person_instance2 = Person('pig', 25)\n",
    "\n",
    "\n",
    "print(person_instance1.information())\n",
    "print(person_instance2.information())\n"
   ]
  },
  {
   "cell_type": "markdown",
   "metadata": {},
   "source": [
    "---\n",
    "## 01-03. 클래스 심화\n",
    "\n",
    "### 01-03-01. 네임 스페이스와 스코프\n",
    "* 네임스페이스\n",
    "    * 변수 이름과 객체를 매핑하는 시스템\n",
    "    * 특정 이름이 특정 객체를 가리키도록 하는 역할\n",
    "    * 각 네임스페이스 별로 특정 스코프에서 유효하다.\n",
    "\n",
    "1. 지역 네임스페이스 : 현재 함수나 메서드 내의 네임스페이스\n",
    "2. 인스턴스 네임스페이스 : 인스턴스(객체) 내의 네임스페이스\n",
    "3. 클래스 네임스페이스 : 클래스 객체의 네임스페이스\n",
    "4. 전역 네임스페이스 : 모듈 내의 전역 네임스페이스\n",
    "5. 내장 네임스페이스 : 파이썬 내장 함수와 예외를 포함하는 네임스페이스\n",
    "\n",
    "* 네임스페이스 검색 순서는 가장 가까운(가장 작은) 스코프 순서로 로컬 -> 전역 -> 빌트인 순이다."
   ]
  },
  {
   "cell_type": "code",
   "execution_count": 19,
   "metadata": {},
   "outputs": [
    {
     "name": "stdout",
     "output_type": "stream",
     "text": [
      "global variable\n",
      "global variable\n",
      "inner variable\n",
      "인스턴스: instace variable\n",
      "local variable\n"
     ]
    }
   ],
   "source": [
    "# 전역 네임스페이스\n",
    "variable = \"global variable\"\n",
    "print(f'{variable}')\n",
    "\n",
    "def outer_function():\n",
    "    # 지역(외부함수) 네임스페이스\n",
    "    print(f'{variable}')\n",
    "    \n",
    "    def inner_function():\n",
    "        #지역(내부함수) 네임스페이스\n",
    "        variable = 'inner variable'\n",
    "        print(f'{variable}')\n",
    "    \n",
    "    inner_function()\n",
    "\n",
    "\n",
    "outer_function()\n",
    "\n",
    "class TestClass:\n",
    "    # 클래스 네임스페이스\n",
    "    variable = 'class variable'\n",
    "    \n",
    "    def __init__(self, value):\n",
    "        self.variable = value # 인스턴스 네임스페이스\n",
    "        \n",
    "    def class_function(self):\n",
    "        variable = \"local variable\"\n",
    "        print(f'{variable}')\n",
    "\n",
    "obj = TestClass('instace variable')\n",
    "\n",
    "print(f'인스턴스: {obj.variable}' )\n",
    "\n",
    "obj.class_function()"
   ]
  },
  {
   "cell_type": "markdown",
   "metadata": {},
   "source": [
    "### 01-03-02. global, nonlocal\n",
    "* global\n",
    "    * 함수 내부에서 전역 변수를 참조하거나 수정할 때 사용, 함수 내부에서 전역변수에 접근이 가능하다."
   ]
  },
  {
   "cell_type": "code",
   "execution_count": 14,
   "metadata": {},
   "outputs": [
    {
     "name": "stdout",
     "output_type": "stream",
     "text": [
      "global variable\n",
      "global modified in function\n"
     ]
    }
   ],
   "source": [
    "g_variable = 'global variable'\n",
    "\n",
    "def modify_global():\n",
    "    global g_variable\n",
    "    g_variable = 'global modified in function'\n",
    "    \n",
    "print(g_variable)\n",
    "\n",
    "modify_global()\n",
    "\n",
    "print(g_variable)"
   ]
  },
  {
   "cell_type": "markdown",
   "metadata": {},
   "source": [
    "* nonlocal\n",
    "    * 중첩 함수에서 바깥 함수의 변수(로컬 변수를 포함)을 참조하거나 수정할때 사용한다.\n",
    "    * 중첩 함수에서 한단계 바깥의 함수 변수에 접근이 가능하다."
   ]
  },
  {
   "cell_type": "code",
   "execution_count": 16,
   "metadata": {},
   "outputs": [
    {
     "name": "stdout",
     "output_type": "stream",
     "text": [
      "outer variable\n",
      "outer modified in inner function\n"
     ]
    }
   ],
   "source": [
    "def outer_function():\n",
    "    variable = 'outer variable'\n",
    "    \n",
    "    def inner_function():\n",
    "        nonlocal variable\n",
    "        variable ='outer modified in inner function'\n",
    "        \n",
    "    print(variable)\n",
    "    inner_function()\n",
    "    \n",
    "    print(variable)\n",
    "    \n",
    "outer_function()"
   ]
  },
  {
   "cell_type": "markdown",
   "metadata": {},
   "source": [
    "### 01-03-03. Private Variable\n",
    "* 객체 내부에서만 접근할 수 있는 private은 파이썬에 존재하지 않는다.\n",
    "\n",
    "단, 밑줄로 시작하는 네임스페이스를 가진 속성은 private 하게 취급된다 라는 규약을 통해 private 속성을 설정 할 수 있다."
   ]
  },
  {
   "cell_type": "code",
   "execution_count": 25,
   "metadata": {},
   "outputs": [
    {
     "name": "stdout",
     "output_type": "stream",
     "text": [
      "산골짜기다람쥐\n",
      "전사\n",
      "법사\n",
      "잘못된 캐릭터 타입을 선택하였습니다.\n"
     ]
    }
   ],
   "source": [
    "class Character:\n",
    "    def __init__(self, nickname, type):\n",
    "        self.nickname = nickname\n",
    "        self.__type = type\n",
    "        \n",
    "    def get_type(self):\n",
    "        return self.__type\n",
    "    \n",
    "    def set_type(self, type):\n",
    "        character_types = ['전사', '법사', '치유사']\n",
    "        \n",
    "        for given_type in character_types:\n",
    "            if(type == given_type):\n",
    "                self.__type = type\n",
    "                return\n",
    "            \n",
    "        # raise 파이썬에서 예외를 발생시키는데 사용되는 키워드\n",
    "        raise ValueError(\"잘못된 캐릭터 타입을 선택하였습니다.\")\n",
    "    \n",
    "        \n",
    "my_character = Character(\"산골짜기다람쥐\", \"전사\")\n",
    "\n",
    "print(my_character.nickname)\n",
    "print(my_character.get_type()) # Private Attribute에 접근하는 method 사용\n",
    "\n",
    "my_character.set_type(\"법사\")\n",
    "print(my_character.get_type())\n",
    "\n",
    "try:\n",
    "    my_character.set_type(\"흑마법사\")\n",
    "except ValueError as e:\n",
    "    print(e)"
   ]
  }
 ],
 "metadata": {
  "kernelspec": {
   "display_name": "pylecture_env",
   "language": "python",
   "name": "python3"
  },
  "language_info": {
   "codemirror_mode": {
    "name": "ipython",
    "version": 3
   },
   "file_extension": ".py",
   "mimetype": "text/x-python",
   "name": "python",
   "nbconvert_exporter": "python",
   "pygments_lexer": "ipython3",
   "version": "3.12.7"
  }
 },
 "nbformat": 4,
 "nbformat_minor": 2
}
