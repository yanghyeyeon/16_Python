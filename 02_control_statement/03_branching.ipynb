{
 "cells": [
  {
   "cell_type": "markdown",
   "metadata": {
    "vscode": {
     "languageId": "plaintext"
    }
   },
   "source": [
    "# 03. 분기문\n",
    "---\n",
    "## 03-01. 분기문 개요\n",
    "### 03-01-01. 분기문이란?\n",
    "* 반복문 내에서 조건문과 함께 작성되어, 반복문의 실행을 종료시키는 역할을 한다.\n"
   ]
  },
  {
   "cell_type": "markdown",
   "metadata": {},
   "source": [
    "## 03-02. break\n",
    "* 조건문 또는 반복문의 실행 구문에서 코드가 break를 만나면 해당 블록의 실행이 종료된다.\n",
    "\n",
    "(break 이후의 실행 구문이 실행되지 않고 종료되어 블록 바깥의 하단 코드가 실행된다.)"
   ]
  },
  {
   "cell_type": "code",
   "execution_count": 2,
   "metadata": {},
   "outputs": [
    {
     "name": "stdout",
     "output_type": "stream",
     "text": [
      "1 회차 시작\n",
      "1 회차 끝\n",
      "2 회차 시작\n",
      "2회차 중단\n"
     ]
    }
   ],
   "source": [
    "for x in [1,2,3]:\n",
    "    print(f\"{x} 회차 시작\")\n",
    "    \n",
    "    if x == 2:\n",
    "        print(f\"{x}회차 중단\")\n",
    "        break\n",
    "    \n",
    "    print(f\"{x} 회차 끝\")"
   ]
  },
  {
   "cell_type": "markdown",
   "metadata": {},
   "source": [
    "## 03-03. continue\n",
    "* 반복문의 실행 구문에서 코드가 continue를 만나면 continue 이후의 블록 내 코드는 더이상 실행 되지 않고 다음 반복으로 넘어간다."
   ]
  },
  {
   "cell_type": "code",
   "execution_count": 3,
   "metadata": {},
   "outputs": [
    {
     "name": "stdout",
     "output_type": "stream",
     "text": [
      "1 회차 시작\n",
      "1 회차 끝\n",
      "2 회차 시작\n",
      "2회차 중단\n",
      "3 회차 시작\n",
      "3 회차 끝\n"
     ]
    }
   ],
   "source": [
    "for x in [1,2,3]:\n",
    "    print(f\"{x} 회차 시작\")\n",
    "    \n",
    "    if x == 2:\n",
    "        print(f\"{x}회차 중단\")\n",
    "        continue\n",
    "    \n",
    "    print(f\"{x} 회차 끝\")"
   ]
  }
 ],
 "metadata": {
  "kernelspec": {
   "display_name": "pylecture_env",
   "language": "python",
   "name": "python3"
  },
  "language_info": {
   "codemirror_mode": {
    "name": "ipython",
    "version": 3
   },
   "file_extension": ".py",
   "mimetype": "text/x-python",
   "name": "python",
   "nbconvert_exporter": "python",
   "pygments_lexer": "ipython3",
   "version": "3.12.7"
  }
 },
 "nbformat": 4,
 "nbformat_minor": 2
}
