{
 "cells": [
  {
   "cell_type": "code",
   "execution_count": 12,
   "metadata": {},
   "outputs": [
    {
     "name": "stdout",
     "output_type": "stream",
     "text": [
      "프로그램을 종료합니다.\n"
     ]
    }
   ],
   "source": [
    "# 1. while 루프를 사용하여 사용자가 '종료'를 입력할 때까지 계속해서 사용자의 입력을 받고 출력하는 프로그램을 작성하세요.\n",
    "\n",
    "while True:\n",
    "    user_input = input(\"종료라고 말해!!!!!!\")\n",
    "    if user_input == '종료':\n",
    "        print(\"프로그램을 종료합니다.\")\n",
    "        break\n",
    "    print(f\"입력한 내용: {user_input}\")"
   ]
  },
  {
   "cell_type": "code",
   "execution_count": 2,
   "metadata": {},
   "outputs": [
    {
     "name": "stdout",
     "output_type": "stream",
     "text": [
      "2\n",
      "4\n",
      "6\n",
      "8\n",
      "10\n",
      "12\n",
      "14\n",
      "16\n",
      "18\n"
     ]
    }
   ],
   "source": [
    "# 2. for 루프와 range() 함수를 사용하여 1부터 20까지의 짝수만 출력하는 프로그램을 작성하세요.\n",
    "\n",
    "for i in range(1, 20):\n",
    "    if i % 2 == 0:\n",
    "        print(i)\n",
    "    "
   ]
  },
  {
   "cell_type": "code",
   "execution_count": 5,
   "metadata": {},
   "outputs": [
    {
     "name": "stdout",
     "output_type": "stream",
     "text": [
      "3 고양이\n",
      "3 강아지\n",
      "3 코끼리\n",
      "2 기린\n"
     ]
    }
   ],
   "source": [
    "# 3. 다음 리스트에서 각 동물의 이름과 글자 수를 출력하는 프로그램을 작성하세요:\n",
    "\n",
    "animals = ['고양이', '강아지', '코끼리', '기린']\n",
    "\n",
    "for i in range(len(animals)):\n",
    "    print(len(animals[i]), animals[i])"
   ]
  }
 ],
 "metadata": {
  "kernelspec": {
   "display_name": "pylecture_env",
   "language": "python",
   "name": "python3"
  },
  "language_info": {
   "codemirror_mode": {
    "name": "ipython",
    "version": 3
   },
   "file_extension": ".py",
   "mimetype": "text/x-python",
   "name": "python",
   "nbconvert_exporter": "python",
   "pygments_lexer": "ipython3",
   "version": "3.12.7"
  }
 },
 "nbformat": 4,
 "nbformat_minor": 2
}
