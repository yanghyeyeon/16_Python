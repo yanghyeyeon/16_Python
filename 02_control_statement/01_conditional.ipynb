{
 "cells": [
  {
   "cell_type": "markdown",
   "metadata": {},
   "source": [
    "# 01. 조건문\n",
    "---\n",
    "## 01-01. 조건문 개요\n",
    "### 01-01-01. 조건문이란?\n",
    "* 조건에 따라 수행할 코드를 다르게 작성하는 방법으로, 파이썬 키워드를 사용하여 작성한다.\n",
    "* 조건문 작성에는 조건식이 필요하며, 조건식은 True 혹은 False의 결과를 내는 구문을 의미함."
   ]
  },
  {
   "cell_type": "code",
   "execution_count": 2,
   "metadata": {},
   "outputs": [
    {
     "name": "stdout",
     "output_type": "stream",
     "text": [
      "제 이름은 bear 입니다.\n"
     ]
    }
   ],
   "source": [
    "# my_name = 'bear'\n",
    "my_name = input('이름을 입력하세요 : ')\n",
    "\n",
    "if(my_name == 'bear'):\n",
    "    print(f'제 이름은 {my_name} 입니다.')"
   ]
  },
  {
   "cell_type": "markdown",
   "metadata": {},
   "source": [
    "---\n",
    "## 01-02. 조건문 if\n",
    "### 01-02-01. if\n",
    "* if 키워드 뒤의 조건식의 결과 값이 참(True)이면 실행구문을 실행한다.\n",
    "* 파이썬에서는 조건식 뒤에 콜론을 붙이고 \"반드시\" 들여쓰기(공백4칸 또는 tap)로 실행구문을 식별 할 수 있도록 작성해야 한다."
   ]
  },
  {
   "cell_type": "code",
   "execution_count": null,
   "metadata": {},
   "outputs": [],
   "source": [
    "if 조건식:\n",
    "    (실행구문)"
   ]
  },
  {
   "cell_type": "code",
   "execution_count": 3,
   "metadata": {},
   "outputs": [
    {
     "name": "stdout",
     "output_type": "stream",
     "text": [
      "우리 선생님은 호랑이 선생님이 아닙니다.\n"
     ]
    }
   ],
   "source": [
    "my_teacher = 'bear'\n",
    "\n",
    "if my_teacher == 'tiger':\n",
    "    print('우리 선생님은 호랑이 선생님 입니다.')\n",
    "else:\n",
    "    print('우리 선생님은 호랑이 선생님이 아닙니다.')"
   ]
  },
  {
   "cell_type": "markdown",
   "metadata": {},
   "source": [
    "elif (if-elif-else)\n",
    "* elif 1개 이상 사용 할 수 있다.\n",
    "* 각각의 경우에 수행할 내용을 구분할 수 있도록 **\"반드시\"** 들여쓰기를 해주어야한다."
   ]
  },
  {
   "cell_type": "code",
   "execution_count": 4,
   "metadata": {},
   "outputs": [
    {
     "name": "stdout",
     "output_type": "stream",
     "text": [
      "우리 선생님은 곰 선생님 입니다.\n"
     ]
    }
   ],
   "source": [
    "my_teacher = 'bear'\n",
    "\n",
    "if my_teacher == 'tiger':\n",
    "    print('우리 선생님은 호랑이 선생님 입니다.')\n",
    "elif my_teacher == 'bear':\n",
    "    print('우리 선생님은 곰 선생님 입니다.')\n",
    "else:\n",
    "    print('우리 선생님은 호랑이 선생님이 아닙니다.')"
   ]
  },
  {
   "cell_type": "markdown",
   "metadata": {},
   "source": [
    "---"
   ]
  },
  {
   "cell_type": "markdown",
   "metadata": {},
   "source": [
    "## 01-03 조건문 match\n",
    "### 01-03-01. match-case\n",
    "* 주어진 값을 case 블록의 값과 비교해 일치하는 case만 실행한다."
   ]
  },
  {
   "cell_type": "code",
   "execution_count": 6,
   "metadata": {},
   "outputs": [
    {
     "name": "stdout",
     "output_type": "stream",
     "text": [
      "곰 선생님의 적자생존 랩에 오신것을 환영합니다.\n",
      "매일5시간의 수면이 예상됩니다.\n"
     ]
    }
   ],
   "source": [
    "input_teacher = input('만나고 싶은 선생님을 입력해 주세요')\n",
    "\n",
    "sleep_time = 0\n",
    "match input_teacher:\n",
    "    case 'tigher':\n",
    "        print('호랑이 선생님의 메타버스에 오신것을 환영합니다.')\n",
    "        sleep_time = 3\n",
    "    case 'bear':\n",
    "        print('곰 선생님의 적자생존 랩에 오신것을 환영합니다.')\n",
    "        sleep_time = 5\n",
    "    case _:\n",
    "        print('공부할 마음이 없으신건 아니죠?')\n",
    "print('매일' + str(sleep_time) + '시간의 수면이 예상됩니다.')"
   ]
  }
 ],
 "metadata": {
  "kernelspec": {
   "display_name": "pylecture_env",
   "language": "python",
   "name": "python3"
  },
  "language_info": {
   "codemirror_mode": {
    "name": "ipython",
    "version": 3
   },
   "file_extension": ".py",
   "mimetype": "text/x-python",
   "name": "python",
   "nbconvert_exporter": "python",
   "pygments_lexer": "ipython3",
   "version": "3.12.7"
  }
 },
 "nbformat": 4,
 "nbformat_minor": 2
}
