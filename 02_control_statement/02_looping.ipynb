{
 "cells": [
  {
   "cell_type": "markdown",
   "metadata": {},
   "source": [
    "# 02. 반복문\n",
    "---\n",
    "## 02-01. 반복문 개요\n",
    "### 02-01-01. 반복문이란?\n",
    "* 중복된 코드를 최소화하여 읽기 쉽고 유지보수가 용이한 코드를 작성하기 위해\n",
    "* 일정범위 또는 조건에 부합하는 경우 어떤 코드를 반복 수행하게 하는 구문"
   ]
  },
  {
   "cell_type": "markdown",
   "metadata": {},
   "source": [
    "## 02-02. 반복문 for\n",
    "### 02-02-01 for-in\n",
    "* 리스트, 튜플, 문자열 등의 각 요소를 순차적으로 접근해 반복 할 수 있다."
   ]
  },
  {
   "cell_type": "code",
   "execution_count": 1,
   "metadata": {},
   "outputs": [
    {
     "name": "stdout",
     "output_type": "stream",
     "text": [
      "pig\n",
      "bear\n",
      "gorilla\n",
      "squirrel\n"
     ]
    }
   ],
   "source": [
    "# 리스트\n",
    "ohgiraffers = ['pig','bear','gorilla','squirrel']\n",
    "\n",
    "for teacher in ohgiraffers:\n",
    "    print(teacher)"
   ]
  },
  {
   "cell_type": "code",
   "execution_count": 2,
   "metadata": {},
   "outputs": [
    {
     "name": "stdout",
     "output_type": "stream",
     "text": [
      "o\n",
      "h\n",
      "g\n",
      "i\n",
      "r\n",
      "a\n",
      "f\n",
      "f\n",
      "e\n",
      "r\n",
      "s\n"
     ]
    }
   ],
   "source": [
    "# 문자열\n",
    "for word in 'ohgiraffers':\n",
    "    print(word)"
   ]
  },
  {
   "cell_type": "code",
   "execution_count": 6,
   "metadata": {},
   "outputs": [
    {
     "name": "stdout",
     "output_type": "stream",
     "text": [
      "bear : 곰\n",
      "tiger : 호랑이\n",
      "monkey : 원숭이\n"
     ]
    }
   ],
   "source": [
    "# 딕셔너리\n",
    "# 딕셔너리는 for문을 통해 반복하면 기본적으로 key 값만 가지고 온다.\n",
    "for x,y in {'bear':'곰', 'tiger': '호랑이', 'monkey':'원숭이'}.items():\n",
    "    print(f'{x} : {y}')"
   ]
  },
  {
   "cell_type": "markdown",
   "metadata": {},
   "source": [
    "* for 키워드 활용"
   ]
  },
  {
   "cell_type": "code",
   "execution_count": 7,
   "metadata": {},
   "outputs": [
    {
     "name": "stdout",
     "output_type": "stream",
     "text": [
      "['ak', 'bk', 'ck', 'dk', 'ek']\n"
     ]
    }
   ],
   "source": [
    "word = 'abcde'\n",
    "# 'ak' 'bk' 'ck' 'dk' 'ek'\n",
    "\n",
    "test = [val + 'k' for val in word]\n",
    "print(test)"
   ]
  },
  {
   "cell_type": "markdown",
   "metadata": {},
   "source": [
    "### 02-02-02 range()\n",
    "* range는 일련의 숫자를 반복해야하는 경우 사용하는 함수, 숫자 배열을 만들어서 for-in 사용하는 것과 같다."
   ]
  },
  {
   "cell_type": "code",
   "execution_count": null,
   "metadata": {},
   "outputs": [],
   "source": [
    "for 변수 in range(반복횟수):\n",
    "    (실행구문)"
   ]
  },
  {
   "cell_type": "code",
   "execution_count": 9,
   "metadata": {},
   "outputs": [
    {
     "name": "stdout",
     "output_type": "stream",
     "text": [
      "반복 1 번째 : i의 값은 0\n",
      "반복 2 번째 : i의 값은 1\n",
      "반복 3 번째 : i의 값은 2\n",
      "반복 4 번째 : i의 값은 3\n",
      "반복 5 번째 : i의 값은 4\n"
     ]
    }
   ],
   "source": [
    "# 인자가 1개일 때의 예시\n",
    "# 파라미터로 숫자 하나만 전달하면 변수가 0부터 2씩 증가하며, 파라미터로 준 길이만큼 반복한다.\n",
    "for i in range(5):\n",
    "    print(f\"반복 {i+1} 번째 : i의 값은 {i}\")"
   ]
  },
  {
   "cell_type": "code",
   "execution_count": 10,
   "metadata": {},
   "outputs": [
    {
     "name": "stdout",
     "output_type": "stream",
     "text": [
      "반복 6 번째 : i의 값은 5\n",
      "반복 7 번째 : i의 값은 6\n",
      "반복 8 번째 : i의 값은 7\n",
      "반복 9 번째 : i의 값은 8\n"
     ]
    }
   ],
   "source": [
    "# 인자가 2개일때 예시\n",
    "# 생성할 숫자 배열의 시작값과 끝값을 지정\n",
    "\n",
    "for i in range(5, 9):\n",
    "    print(f\"반복 {i+1} 번째 : i의 값은 {i}\")"
   ]
  },
  {
   "cell_type": "code",
   "execution_count": 11,
   "metadata": {},
   "outputs": [
    {
     "name": "stdout",
     "output_type": "stream",
     "text": [
      "반복 6 번째 : i의 값은 5\n",
      "반복 9 번째 : i의 값은 8\n",
      "반복 12 번째 : i의 값은 11\n",
      "반복 15 번째 : i의 값은 14\n"
     ]
    }
   ],
   "source": [
    "# 인자가 3개일때 예시\n",
    "# 생성할 숫자 배열의 시작값, 끝값, 증감크기\n",
    "\n",
    "for i in range(5, 15, 3):\n",
    "    print(f\"반복 {i+1} 번째 : i의 값은 {i}\")"
   ]
  },
  {
   "cell_type": "code",
   "execution_count": 12,
   "metadata": {},
   "outputs": [
    {
     "name": "stdout",
     "output_type": "stream",
     "text": [
      "5\n",
      "3\n"
     ]
    }
   ],
   "source": [
    "for i in range(5, 1, -2):\n",
    "    print(i)"
   ]
  },
  {
   "cell_type": "markdown",
   "metadata": {},
   "source": [
    "### range() 함수의 특징\n",
    "1. 인덱스의 길이만큼 반복하려면 range()와 len()을 같이 사용 가능"
   ]
  },
  {
   "cell_type": "code",
   "execution_count": 14,
   "metadata": {},
   "outputs": [
    {
     "name": "stdout",
     "output_type": "stream",
     "text": [
      "0 i\n",
      "1 am\n",
      "2 a\n",
      "3 bear\n"
     ]
    }
   ],
   "source": [
    "introduce = ['i' ,'am', 'a', 'bear']\n",
    "\n",
    "for i in range(len(introduce)):\n",
    "    print(i, introduce[i])"
   ]
  },
  {
   "cell_type": "markdown",
   "metadata": {},
   "source": [
    "2. range()를 단독 사용하면 그냥 텍스트로 출력됨"
   ]
  },
  {
   "cell_type": "code",
   "execution_count": 15,
   "metadata": {},
   "outputs": [
    {
     "data": {
      "text/plain": [
       "range(0, 10)"
      ]
     },
     "execution_count": 15,
     "metadata": {},
     "output_type": "execute_result"
    }
   ],
   "source": [
    "range(10)"
   ]
  },
  {
   "cell_type": "markdown",
   "metadata": {},
   "source": [
    "3. 연속적인 항목을 얻는 함수나 구성의 대상으로 많이 사용한다."
   ]
  },
  {
   "cell_type": "code",
   "execution_count": 16,
   "metadata": {},
   "outputs": [
    {
     "data": {
      "text/plain": [
       "6"
      ]
     },
     "execution_count": 16,
     "metadata": {},
     "output_type": "execute_result"
    }
   ],
   "source": [
    "sum(range(4))"
   ]
  },
  {
   "cell_type": "markdown",
   "metadata": {},
   "source": [
    "---\n",
    "## 02-03. 반복문 while\n",
    "### 02-03-01. while\n",
    "* 조건이 true인 동안, 실행 구문을 계속해서 반복한다."
   ]
  },
  {
   "cell_type": "code",
   "execution_count": 17,
   "metadata": {},
   "outputs": [
    {
     "name": "stdout",
     "output_type": "stream",
     "text": [
      "1\n",
      "2\n",
      "3\n",
      "4\n",
      "5\n",
      "6\n",
      "7\n",
      "8\n",
      "9\n",
      "10\n"
     ]
    }
   ],
   "source": [
    "# 1부터 10까지 1씩 증가시켜서 i값을 출력하는 반복문\n",
    "\n",
    "i = 1\n",
    "\n",
    "while i <= 10:\n",
    "    print(i)\n",
    "    i += 1"
   ]
  }
 ],
 "metadata": {
  "kernelspec": {
   "display_name": "pylecture_env",
   "language": "python",
   "name": "python3"
  },
  "language_info": {
   "codemirror_mode": {
    "name": "ipython",
    "version": 3
   },
   "file_extension": ".py",
   "mimetype": "text/x-python",
   "name": "python",
   "nbconvert_exporter": "python",
   "pygments_lexer": "ipython3",
   "version": "3.12.7"
  }
 },
 "nbformat": 4,
 "nbformat_minor": 2
}
