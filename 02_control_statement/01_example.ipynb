{
 "cells": [
  {
   "cell_type": "code",
   "execution_count": 7,
   "metadata": {},
   "outputs": [
    {
     "name": "stdout",
     "output_type": "stream",
     "text": [
      "D\n"
     ]
    }
   ],
   "source": [
    "# 시험 점수를 입력받아 학점을 출력하는 프로그램을 작성하세요.\n",
    "# 90점 이상: A\n",
    "# 80점 이상 90점 미만: B\n",
    "# 70점 이상 80점 미만: C\n",
    "# 60점 이상 70점 미만: D\n",
    "# 60점 미만: F\n",
    "\n",
    "점수 = int(input(\"시험 점수를 입력하세요: \"))\n",
    "\n",
    "if 점수 >= 90:\n",
    "    print('A')\n",
    "elif 점수 >= 80:\n",
    "    print('B')\n",
    "elif 점수 >= 70:\n",
    "    print('C')\n",
    "elif 점수 >= 60:\n",
    "    print('D')\n",
    "else:\n",
    "    print('F')"
   ]
  },
  {
   "cell_type": "code",
   "execution_count": 10,
   "metadata": {},
   "outputs": [
    {
     "name": "stdout",
     "output_type": "stream",
     "text": [
      "해당하는 요일이 없습니다.\n"
     ]
    }
   ],
   "source": [
    "# 1부터 7까지의 숫자를 입력받아 해당하는 요일을 출력하는 프로그램을 작성하세요.\n",
    "# 1: 월요일, 2: 화요일, ..., 7: 일요일\n",
    "# match-case 문을 사용하세요.\n",
    "\n",
    "숫자 = int(input(\"1부터 7까지의 숫자를 입력하세요: \"))\n",
    "\n",
    "match 숫자:\n",
    "    case 1:\n",
    "        print('월요일')\n",
    "    case 2:\n",
    "        print('화요일')\n",
    "    case 3:\n",
    "        print('수요일')\n",
    "    case 4:\n",
    "        print('목요일')\n",
    "    case 5:\n",
    "        print('금요일')\n",
    "    case 6:\n",
    "        print('토요일')\n",
    "    case 7:\n",
    "        print('일요일')\n",
    "    case _:\n",
    "        print('해당하는 요일이 없습니다.')"
   ]
  },
  {
   "cell_type": "code",
   "execution_count": 13,
   "metadata": {},
   "outputs": [
    {
     "name": "stdout",
     "output_type": "stream",
     "text": [
      "아이디를 잘못 입력하셨습니다.\n"
     ]
    }
   ],
   "source": [
    "# 미리 설정된 아이디와 비밀번호가 있다고 가정합니다.\n",
    "# 사용자로부터 아이디와 비밀번호를 입력받아 로그인 성공 여부를 출력하는 프로그램을 작성하세요.\n",
    "\n",
    "설정된_아이디 = \"python\"\n",
    "설정된_비밀번호 = \"1234\"\n",
    "\n",
    "입력_아이디 = input(\"아이디를 입력하세요: \")\n",
    "입력_비밀번호 = input(\"비밀번호를 입력하세요: \")\n",
    "\n",
    "if 입력_아이디 == 설정된_아이디:\n",
    "    if 입력_비밀번호 == 설정된_비밀번호:\n",
    "        print('로그인 성공')\n",
    "    else:\n",
    "        print('비밀번호를 다시 입력해주세요.')\n",
    "else:\n",
    "    print('아이디를 잘못 입력하셨습니다.')"
   ]
  }
 ],
 "metadata": {
  "kernelspec": {
   "display_name": "pylecture_env",
   "language": "python",
   "name": "python3"
  },
  "language_info": {
   "codemirror_mode": {
    "name": "ipython",
    "version": 3
   },
   "file_extension": ".py",
   "mimetype": "text/x-python",
   "name": "python",
   "nbconvert_exporter": "python",
   "pygments_lexer": "ipython3",
   "version": "3.12.7"
  }
 },
 "nbformat": 4,
 "nbformat_minor": 2
}
