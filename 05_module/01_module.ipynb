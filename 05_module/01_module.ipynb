{
 "cells": [
  {
   "cell_type": "markdown",
   "metadata": {},
   "source": [
    "# 01. Module (모듈)\n",
    "---\n",
    "## 01-01. 모듈 개요\n",
    "### 01-01-01. 모듈이란?\n",
    "\n",
    "* 하나의 모듈은 서로 관련된 코드의 집합이자 하나의 파일을 의미한다.\n",
    "* 함수, 클래스, 변수 등을 모듈 내에 정의할 수 있다.\n",
    "* 만들어진 모듈은 다른 Python 프로그램에서 가져와 사용 가능하다.\n",
    "\n",
    "### 01-01-02. 모듈 장점\n",
    "1. 재사용성 : 한번 작성한 코드를 여러 프로그램에서 재사용 할 수 있다.\n",
    "2. 유지보수성 : 큰 프로그램을 작은 모듈로 나누어 코드 관리를 함으로써 유지보수를 용이하게 할 수 있다.\n",
    "3. 네임스페이스 : 모듈마다 독립적인 네임스페이스를 제공하여 변수이름 충돌을 방지 할 수 있다."
   ]
  },
  {
   "cell_type": "markdown",
   "metadata": {},
   "source": [
    "## 01-02. 모듈 사용"
   ]
  },
  {
   "cell_type": "markdown",
   "metadata": {
    "vscode": {
     "languageId": "plaintext"
    }
   },
   "source": [
    "### 01-02-01. 모듈 사용 절차\n",
    "1. 파일(모듈)을 전체 import\n",
    "    * 하나의 경로와 파일명(확장자 제외 [.py])를 import 하면, 현재 스크립트에서 다른 곳에 정의한 스크립트를 불러 올 수 있다."
   ]
  },
  {
   "cell_type": "code",
   "execution_count": 1,
   "metadata": {},
   "outputs": [
    {
     "name": "stdout",
     "output_type": "stream",
     "text": [
      "구어엉\n",
      "오지라퍼스\n"
     ]
    }
   ],
   "source": [
    "import ohgiraffers\n",
    "\n",
    "print(ohgiraffers.bear()) # 함수 가져오기\n",
    "print(ohgiraffers.ohgiraffers) # 변수 가져오기"
   ]
  },
  {
   "cell_type": "markdown",
   "metadata": {},
   "source": [
    "2. from-import\n",
    "    * 특정 함수 또는 변수만 가져올 수 있다.\n",
    "    * from 키워드 뒤에 import 대상 모듈을 지정하고, 그 뒤로 import할 함수나 변수를 작성한다."
   ]
  },
  {
   "cell_type": "code",
   "execution_count": 3,
   "metadata": {},
   "outputs": [
    {
     "name": "stdout",
     "output_type": "stream",
     "text": [
      "구어엉\n",
      "오지라퍼스\n"
     ]
    }
   ],
   "source": [
    "from ohgiraffers import bear, ohgiraffers\n",
    "\n",
    "print(bear()) # 참조하지 않고 사용 가능\n",
    "print(ohgiraffers)"
   ]
  },
  {
   "cell_type": "markdown",
   "metadata": {},
   "source": [
    "3. 모듈에 별칭을 부여할 수 있다.\n",
    "    * 파일 이름이 길거나 복잡할때, 호출 시마다 모듈명을 작성하기 힘드므로, as를 붙여 모듈에 별칭을 부여 할 수 있다."
   ]
  },
  {
   "cell_type": "code",
   "execution_count": 4,
   "metadata": {},
   "outputs": [
    {
     "name": "stdout",
     "output_type": "stream",
     "text": [
      "오지라퍼스\n",
      "구어엉\n"
     ]
    }
   ],
   "source": [
    "import ohgiraffers as og\n",
    "\n",
    "print(og.ohgiraffers)\n",
    "print(og.bear())"
   ]
  },
  {
   "cell_type": "markdown",
   "metadata": {},
   "source": [
    "4. 특정 함수 또는 변수에도 별칭을 부여할 수 있다"
   ]
  },
  {
   "cell_type": "code",
   "execution_count": 6,
   "metadata": {},
   "outputs": [
    {
     "name": "stdout",
     "output_type": "stream",
     "text": [
      "구어엉\n",
      "오지라퍼스\n"
     ]
    }
   ],
   "source": [
    "from ohgiraffers import bear as b, ohgiraffers as og\n",
    "\n",
    "print(b())\n",
    "print(og)"
   ]
  },
  {
   "cell_type": "markdown",
   "metadata": {},
   "source": [
    "5. 표준 라이브러리 모듈을 import 하여 사용할 수 있다."
   ]
  },
  {
   "cell_type": "code",
   "execution_count": 9,
   "metadata": {},
   "outputs": [
    {
     "name": "stdout",
     "output_type": "stream",
     "text": [
      "4.0\n",
      "120\n",
      "3.141592653589793\n"
     ]
    }
   ],
   "source": [
    "import math\n",
    "\n",
    "print(math.sqrt(16))\n",
    "print(math.factorial(5))\n",
    "print(math.pi)"
   ]
  },
  {
   "cell_type": "code",
   "execution_count": 10,
   "metadata": {},
   "outputs": [
    {
     "name": "stdout",
     "output_type": "stream",
     "text": [
      "\n",
      "Please wait a moment while I gather a list of all available modules...\n",
      "\n",
      "IPython             bdb                 mailcap             subprocess\n",
      "__future__          binascii            markupsafe          sunau\n",
      "__hello__           bisect              marshal             symtable\n",
      "__phello__          bleach              math                sys\n",
      "_abc                bs4                 matplotlib_inline   sysconfig\n",
      "_aix_support        builtins            mimetypes           tabnanny\n",
      "_argon2_cffi_bindings bz2                 mistune             tarfile\n",
      "_ast                cProfile            mmap                telnetlib\n",
      "_asyncio            calendar            mmapfile            tempfile\n",
      "_bisect             certifi             mmsystem            terminado\n",
      "_blake2             cffi                modulefinder        test\n",
      "_bz2                cgi                 more_itertools      textwrap\n",
      "_cffi_backend       cgitb               msilib              this\n",
      "_codecs             charset_normalizer  msvcrt              threading\n",
      "_codecs_cn          chunk               multiprocessing     time\n",
      "_codecs_hk          cmath               nbclient            timeit\n",
      "_codecs_iso2022     cmd                 nbconvert           timer\n",
      "_codecs_jp          code                nbformat            tinycss2\n",
      "_codecs_kr          codecs              nest_asyncio        tkinter\n",
      "_codecs_tw          codeop              netbios             token\n",
      "_collections        collections         netrc               tokenize\n",
      "_collections_abc    colorama            nntplib             tomli\n",
      "_compat_pickle      colorsys            notebook            tomllib\n",
      "_compression        comm                notebook_shim       tornado\n",
      "_contextvars        commctrl            nt                  trace\n",
      "_csv                compileall          ntpath              traceback\n",
      "_ctypes             concurrent          ntsecuritycon       tracemalloc\n",
      "_ctypes_test        configparser        nturl2path          traitlets\n",
      "_datetime           contextlib          numbers             tty\n",
      "_decimal            contextvars         odbc                turtle\n",
      "_distutils_hack     copy                ohgiraffers         turtledemo\n",
      "_elementtree        copyreg             opcode              typeguard\n",
      "_functools          crypt               operator            types\n",
      "_hashlib            csv                 optparse            typing\n",
      "_heapq              ctypes              os                  typing_extensions\n",
      "_imp                curses              overrides           unicodedata\n",
      "_io                 dataclasses         packaging           unittest\n",
      "_json               datetime            pandocfilters       uri_template\n",
      "_locale             dateutil            parso               urllib\n",
      "_lsprof             dbm                 pathlib             urllib3\n",
      "_lzma               dde                 pdb                 uu\n",
      "_markupbase         debugpy             perfmon             uuid\n",
      "_md5                decimal             pickle              venv\n",
      "_msi                decorator           pickletools         warnings\n",
      "_multibytecodec     defusedxml          pip                 wave\n",
      "_multiprocessing    difflib             pipes               wcwidth\n",
      "_opcode             dis                 pkg_resources       weakref\n",
      "_operator           doctest             pkgutil             webbrowser\n",
      "_osx_support        email               platform            webcolors\n",
      "_overlapped         encodings           platformdirs        webencodings\n",
      "_pickle             ensurepip           plistlib            websocket\n",
      "_py_abc             enum                poplib              wheel\n",
      "_pydatetime         errno               posixpath           widgetsnbextension\n",
      "_pydecimal          executing           pprint              win2kras\n",
      "_pyio               fastjsonschema      profile             win32api\n",
      "_pylong             faulthandler        prometheus_client   win32clipboard\n",
      "_queue              filecmp             prompt_toolkit      win32com\n",
      "_random             fileinput           pstats              win32con\n",
      "_sha1               fnmatch             psutil              win32console\n",
      "_sha2               fqdn                pty                 win32cred\n",
      "_sha3               fractions           pure_eval           win32crypt\n",
      "_signal             ftplib              py_compile          win32cryptcon\n",
      "_sitebuiltins       functools           pyclbr              win32event\n",
      "_socket             gc                  pycparser           win32evtlog\n",
      "_sqlite3            genericpath         pydoc               win32evtlogutil\n",
      "_sre                getopt              pydoc_data          win32file\n",
      "_ssl                getpass             pyexpat             win32gui\n",
      "_stat               gettext             pygments            win32gui_struct\n",
      "_statistics         glob                pythoncom           win32help\n",
      "_string             graphlib            pythonjsonlogger    win32inet\n",
      "_strptime           gzip                pywin               win32inetcon\n",
      "_struct             h11                 pywin32_bootstrap   win32job\n",
      "_symtable           hashlib             pywin32_testutil    win32lz\n",
      "_testbuffer         heapq               pywintypes          win32net\n",
      "_testcapi           hmac                queue               win32netcon\n",
      "_testclinic         html                quopri              win32pdh\n",
      "_testconsole        http                random              win32pdhquery\n",
      "_testimportmultiple httpcore            rasutil             win32pdhutil\n",
      "_testinternalcapi   httpx               re                  win32pipe\n",
      "_testmultiphase     idlelib             referencing         win32print\n",
      "_testsinglephase    idna                regcheck            win32process\n",
      "_thread             imaplib             regutil             win32profile\n",
      "_threading_local    imghdr              reprlib             win32ras\n",
      "_tkinter            importlib           requests            win32rcparser\n",
      "_tokenize           importlib_metadata  rfc3339_validator   win32security\n",
      "_tracemalloc        importlib_resources rfc3986_validator   win32service\n",
      "_typing             inflect             rlcompleter         win32serviceutil\n",
      "_uuid               inspect             rpds                win32timezone\n",
      "_warnings           io                  runpy               win32trace\n",
      "_weakref            ipaddress           sched               win32traceutil\n",
      "_weakrefset         ipykernel           secrets             win32transaction\n",
      "_win32sysloader     ipykernel_launcher  select              win32ts\n",
      "_win32verstamp_pywin32ctypes ipywidgets          selectors           win32ui\n",
      "_winapi             isapi               send2trash          win32uiole\n",
      "_winxptheme         isoduration         servicemanager      win32verstamp\n",
      "_wmi                itertools           setuptools          win32wnet\n",
      "_xxinterpchannels   jedi                shelve              winerror\n",
      "_xxsubinterpreters  jinja2              shlex               winioctlcon\n",
      "_yaml               json                shutil              winnt\n",
      "_zoneinfo           json5               signal              winperf\n",
      "abc                 jsonpointer         site                winpty\n",
      "adodbapi            jsonschema          six                 winreg\n",
      "afxres              jsonschema_specifications smtplib             winsound\n",
      "aifc                jupyter             sndhdr              winxpgui\n",
      "antigravity         jupyter_client      sniffio             winxptheme\n",
      "anyio               jupyter_console     socket              wsgiref\n",
      "argon2              jupyter_core        socketserver        xdrlib\n",
      "argparse            jupyter_events      soupsieve           xml\n",
      "array               jupyter_lsp         sqlite3             xmlrpc\n",
      "arrow               jupyter_server      sre_compile         xxlimited\n",
      "ast                 jupyter_server_terminals sre_constants       xxlimited_35\n",
      "asttokens           jupyterlab          sre_parse           xxsubtype\n",
      "async_lru           jupyterlab_pygments ssl                 yaml\n",
      "asyncio             jupyterlab_server   sspi                zipapp\n",
      "atexit              jupyterlab_widgets  sspicon             zipfile\n",
      "attr                keyword             stack_data          zipimport\n",
      "attrs               lib2to3             start_pythonwin     zipp\n",
      "audioop             linecache           stat                zlib\n",
      "autocommand         locale              statistics          zmq\n",
      "babel               logging             string              zoneinfo\n",
      "backports           lzma                stringprep          \n",
      "base64              mailbox             struct              \n",
      "\n",
      "Enter any module name to get more help.  Or, type \"modules spam\" to search\n",
      "for modules whose name or summary contain the string \"spam\".\n",
      "\n"
     ]
    }
   ],
   "source": [
    "# 파이썬 환경에 설치된 라이브러리 확인\n",
    "help('modules')"
   ]
  },
  {
   "cell_type": "code",
   "execution_count": 11,
   "metadata": {},
   "outputs": [
    {
     "name": "stdout",
     "output_type": "stream",
     "text": [
      "bear\n",
      "Hello!\n"
     ]
    }
   ],
   "source": [
    "from og.team.teacher import Animal\n",
    "\n",
    "animal = Animal()\n",
    "\n",
    "print(animal.name)\n",
    "print(animal.greeting())"
   ]
  }
 ],
 "metadata": {
  "kernelspec": {
   "display_name": "pylecture_env",
   "language": "python",
   "name": "python3"
  },
  "language_info": {
   "codemirror_mode": {
    "name": "ipython",
    "version": 3
   },
   "file_extension": ".py",
   "mimetype": "text/x-python",
   "name": "python",
   "nbconvert_exporter": "python",
   "pygments_lexer": "ipython3",
   "version": "3.12.7"
  }
 },
 "nbformat": 4,
 "nbformat_minor": 2
}
