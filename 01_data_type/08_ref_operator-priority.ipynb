{
 "cells": [
  {
   "cell_type": "markdown",
   "metadata": {},
   "source": [
    "# [참고] 연산자 우선순위\n",
    "* 참고\n",
    "    * https://wikidocs.net/215521\n",
    "    * https://xeronique.tistory.com/11\n",
    "* 우선순위가 높은 것 > 낮은 것 순서"
   ]
  },
  {
   "cell_type": "markdown",
   "metadata": {},
   "source": [
    "\n",
    "| 우선순위 | 연산자                         | 설명                                                                          |\n",
    "|----------|--------------------------------|-----------------------------------------------------------------------------|\n",
    "| 1        | `()`                           | 괄호 (Grouping)                                                               |\n",
    "| 2        | `**`                           | 거듭제곱 (Exponentiation)                                                       |\n",
    "| 3        | `+x`, `-x`, `~x`               | 단항 연산자 (Unary plus, Unary minus, Bitwise NOT)                               |\n",
    "| 4        | `*`, `/`, `//`, `%`            | 곱셈, 나눗셈, 정수 나눗셈, 나머지 연산 (Multiplication, Division, Floor Division, Modulus) |\n",
    "| 5        | `+`, `-`                       | 덧셈, 뺄셈 (Addition, Subtraction)                                              |\n",
    "| 6        | `<<`, `>>`                     | 비트 이동 (Bitwise Shift)                                                       |\n",
    "| 7        | `&`                            | 비트 AND (Bitwise AND)                                                        |\n",
    "| 8        | `^`                            | 비트 XOR (Bitwise XOR)                                                        |\n",
    "| 9        | `| `                                                                           | 비트 OR (Bitwise OR)                                                  |\n",
    "| 10       | `==`, `!=`, `>`, `<`, `>=`, `<=`, `is`, `is not`, `in`, `not in` | 비교 연산자 (Comparisons, Identity, Membership)                                  |\n",
    "| 11       | `not`                          | 논리 NOT (Logical NOT)                                                        |\n",
    "| 12       | `and`                          | 논리 AND (Logical AND)                                                        |\n",
    "| 13       | `or`                           | 논리 OR (Logical OR)                                                          |\n",
    "| 14       | `if ... else`                  | 조건 표현식 (Conditional Expression)                                             |\n",
    "| 15       | `lambda`                       | 람다 표현식 (Lambda Expression)                                                  |\n",
    "| 16       | `:=`                           | 바다코끼리 연산자 (Assignment Expression, walrus operator)                          |\n"
   ]
  }
 ],
 "metadata": {
  "language_info": {
   "name": "python"
  }
 },
 "nbformat": 4,
 "nbformat_minor": 2
}
