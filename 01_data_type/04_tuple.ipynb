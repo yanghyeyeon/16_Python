{
 "cells": [
  {
   "cell_type": "markdown",
   "metadata": {},
   "source": [
    "# 04. 튜플 (Tuple)\n",
    "---\n",
    "## 04-01. 튜플 개요\n",
    "### 04-01-01. 튜플이란?\n",
    "* 여러개의 값을 하나의 변수에 저장할 수 있는 자료구조이다.\n",
    "* 튜플은 한번 생성되면 그 값을 변경 할 수 없다.\n",
    "\n",
    "### 04-01-02. 튜플 표현식\n",
    "* 튜플은 소괄호를 사용하거나 사용하지 않고 생성할 수 잇으며, 생성된 이후에는 그 값을 변경 할 수 없다."
   ]
  },
  {
   "cell_type": "code",
   "execution_count": null,
   "metadata": {},
   "outputs": [],
   "source": [
    "튜플명 = ('값1', '값2', ...)"
   ]
  },
  {
   "cell_type": "code",
   "execution_count": 6,
   "metadata": {},
   "outputs": [
    {
     "name": "stdout",
     "output_type": "stream",
     "text": [
      "((1, 2, 'hello'), ('test', 1, 2, 3, 4))\n",
      "(1, 2, 'hello')\n",
      "hello\n",
      "(1, 2, 3)\n"
     ]
    }
   ],
   "source": [
    "tuples = (1, 2, 'hello'), ('test', 1, 2, 3, 4)\n",
    "print(tuples)\n",
    "print(tuples[0])\n",
    "print(tuples[0][2])\n",
    "\n",
    "no_wrap_tuple = 1, 2, 3\n",
    "\n",
    "print(no_wrap_tuple)"
   ]
  },
  {
   "cell_type": "markdown",
   "metadata": {},
   "source": [
    "---\n",
    "## 04-02. 튜플 연산\n",
    "### 04-02-01. 불변 객체\n",
    "* 튜플은 불변 객체이므로 요소 값을 한번 할당하며, 추가, 수정, 삭제가 불가하다.\n",
    "* 이때 값을 재할당하면 값이 다시 입력될 수 있는데,<br>기존의 변수에 값이 재할당 되는것이 아닌, 새로운 변수가 생성되는 것"
   ]
  },
  {
   "cell_type": "code",
   "execution_count": 7,
   "metadata": {},
   "outputs": [
    {
     "ename": "TypeError",
     "evalue": "'tuple' object does not support item assignment",
     "output_type": "error",
     "traceback": [
      "\u001b[1;31m---------------------------------------------------------------------------\u001b[0m",
      "\u001b[1;31mTypeError\u001b[0m                                 Traceback (most recent call last)",
      "Cell \u001b[1;32mIn[7], line 3\u001b[0m\n\u001b[0;32m      1\u001b[0m tuples \u001b[38;5;241m=\u001b[39m (\u001b[38;5;241m1\u001b[39m, \u001b[38;5;241m2\u001b[39m, \u001b[38;5;124m'\u001b[39m\u001b[38;5;124mhello\u001b[39m\u001b[38;5;124m'\u001b[39m),(\u001b[38;5;124m'\u001b[39m\u001b[38;5;124mtest\u001b[39m\u001b[38;5;124m'\u001b[39m, \u001b[38;5;241m1\u001b[39m, \u001b[38;5;241m2\u001b[39m, \u001b[38;5;241m3\u001b[39m, \u001b[38;5;241m4\u001b[39m)\n\u001b[1;32m----> 3\u001b[0m \u001b[43mtuples\u001b[49m\u001b[43m[\u001b[49m\u001b[38;5;241;43m0\u001b[39;49m\u001b[43m]\u001b[49m \u001b[38;5;241m=\u001b[39m (\u001b[38;5;241m1\u001b[39m,\u001b[38;5;241m2\u001b[39m,\u001b[38;5;241m3\u001b[39m,\u001b[38;5;241m4\u001b[39m)\n",
      "\u001b[1;31mTypeError\u001b[0m: 'tuple' object does not support item assignment"
     ]
    }
   ],
   "source": [
    "tuples = (1, 2, 'hello'),('test', 1, 2, 3, 4)\n",
    "\n",
    "tuples[0] = (1,2,3,4)"
   ]
  },
  {
   "cell_type": "code",
   "execution_count": 9,
   "metadata": {},
   "outputs": [
    {
     "name": "stdout",
     "output_type": "stream",
     "text": [
      "1728267892144\n",
      "1728261876736\n"
     ]
    }
   ],
   "source": [
    "# id() : 인자로 전달된 개체의 주소값을 반환\n",
    "# 메모리의 위치가 다르다\n",
    "# 튜플은 불변객체이기 때문에 튜플이 변경될때 마다 새로운 객체를 생성한다.\n",
    "\n",
    "test_list = (1, 2, 3, 4)\n",
    "print(id(test_list))\n",
    "\n",
    "test_list = (3, 4, 5)\n",
    "print(id(test_list))"
   ]
  },
  {
   "cell_type": "markdown",
   "metadata": {},
   "source": [
    "### 04-02-02. 튜플간 연산"
   ]
  },
  {
   "cell_type": "code",
   "execution_count": 11,
   "metadata": {},
   "outputs": [],
   "source": [
    "safari_tuple = ('bear','koara','gorilla','squirrel')"
   ]
  },
  {
   "cell_type": "code",
   "execution_count": 13,
   "metadata": {},
   "outputs": [
    {
     "name": "stdout",
     "output_type": "stream",
     "text": [
      "('bear', 'koara', 'gorilla', 'squirrel', 'monkey', 'tiger', 'wolf')\n",
      "('bear', 'koara', 'gorilla', 'squirrel', 'bear', 'koara', 'gorilla', 'squirrel', 'bear', 'koara', 'gorilla', 'squirrel')\n",
      "7\n"
     ]
    }
   ],
   "source": [
    "# 튜플 합치기\n",
    "anotoher_safari_tuple = ('monkey','tiger','wolf')\n",
    "\n",
    "print(safari_tuple + anotoher_safari_tuple)\n",
    "\n",
    "# 튜플 반복\n",
    "print(safari_tuple * 3)\n",
    "\n",
    "# 튜플의 길이\n",
    "print(len(safari_tuple + anotoher_safari_tuple))"
   ]
  }
 ],
 "metadata": {
  "kernelspec": {
   "display_name": "pylecture_env",
   "language": "python",
   "name": "python3"
  },
  "language_info": {
   "codemirror_mode": {
    "name": "ipython",
    "version": 3
   },
   "file_extension": ".py",
   "mimetype": "text/x-python",
   "name": "python",
   "nbconvert_exporter": "python",
   "pygments_lexer": "ipython3",
   "version": "3.12.7"
  }
 },
 "nbformat": 4,
 "nbformat_minor": 2
}
